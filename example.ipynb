{
 "cells": [
  {
   "cell_type": "markdown",
   "metadata": {},
   "source": [
    "\n",
    "## What you will need to do \n",
    "1. Task 1: Build an intuitive UI that takes these input from user.\n",
    "    * room type, room number, room size\n",
    "    * connectivity\n",
    "    * boundary\n",
    "2. Task 2: Transform the input to the same data structure as the npz file.\n",
    "3. Task 3: Visualize the results from the model (The data structure is the same as the npz file). \n",
    "    * The user should be able to export the results as png / svg file too."
   ]
  },
  {
   "cell_type": "code",
   "execution_count": 1,
   "metadata": {},
   "outputs": [],
   "source": [
    "import numpy as np\n",
    "import matplotlib.pyplot as plt\n",
    "from shapely.geometry import Polygon\n",
    "import networkx as nx\n",
    "from PIL import Image, ImageDraw"
   ]
  },
  {
   "cell_type": "code",
   "execution_count": 2,
   "metadata": {},
   "outputs": [],
   "source": [
    "ROOM_CLASS = {\"living_room\": 1, \"kitchen\": 2, \"bedroom\": 3, \"bathroom\": 4, \"balcony\": 5, \"entrance\": 6, \"dining room\": 7, \"study room\": 8,\n",
    "            \"storage\": 10 , \"front door\": 11, \"unknown\": 13, \"interior_door\": 12}\n",
    "ID_COLOR = {1: '#EE4D4D', 2: '#C67C7B', 3: '#FFD274', 4: '#BEBEBE', 5: '#BFE3E8',\n",
    "                6: '#7BA779', 7: '#E87A90', 8: '#FF8C69', 10: '#1F849B', 11: '#727171',\n",
    "                13: '#785A67', 12: '#D3A2C7'}"
   ]
  },
  {
   "cell_type": "markdown",
   "metadata": {},
   "source": [
    "## dict keys in data"
   ]
  },
  {
   "cell_type": "code",
   "execution_count": 3,
   "metadata": {},
   "outputs": [
    {
     "name": "stdout",
     "output_type": "stream",
     "text": [
      "['graphs', 'houses', 'door_masks', 'self_masks', 'gen_masks', 'boundary_masks', 'boundaries', 'boundary_connections', 'min_dists', 'min_dist_masks']\n"
     ]
    }
   ],
   "source": [
    "data = np.load('input_example/rplan_train_8_sliced.npz', allow_pickle=True)\n",
    "print(data.files)\n"
   ]
  },
  {
   "cell_type": "markdown",
   "metadata": {},
   "source": [
    "## graphs\n",
    "graphs show the room connectivity with a shape of (n, 3), the first element shows the index of the room / door, the second element is the relationship (-1 means not connected, 1 means connected), the third element is the index of the connected room / door. "
   ]
  },
  {
   "cell_type": "code",
   "execution_count": 8,
   "metadata": {},
   "outputs": [
    {
     "data": {
      "text/plain": [
       "array([[ 0, -1,  1],\n",
       "       [ 0, -1,  2],\n",
       "       [ 0, -1,  3],\n",
       "       [ 0, -1,  4],\n",
       "       [ 0,  1,  5],\n",
       "       [ 0,  1,  6],\n",
       "       [ 0,  1,  7],\n",
       "       [ 0, -1,  8],\n",
       "       [ 0,  1,  9],\n",
       "       [ 0, -1, 10],\n",
       "       [ 0, -1, 11],\n",
       "       [ 0, -1, 12],\n",
       "       [ 0, -1, 13],\n",
       "       [ 1, -1,  2],\n",
       "       [ 1, -1,  3],\n",
       "       [ 1, -1,  4],\n",
       "       [ 1, -1,  5],\n",
       "       [ 1,  1,  6],\n",
       "       [ 1, -1,  7],\n",
       "       [ 1,  1,  8],\n",
       "       [ 1, -1,  9],\n",
       "       [ 1, -1, 10],\n",
       "       [ 1, -1, 11],\n",
       "       [ 1, -1, 12],\n",
       "       [ 1, -1, 13],\n",
       "       [ 2, -1,  3],\n",
       "       [ 2, -1,  4],\n",
       "       [ 2, -1,  5],\n",
       "       [ 2,  1,  6],\n",
       "       [ 2, -1,  7],\n",
       "       [ 2, -1,  8],\n",
       "       [ 2, -1,  9],\n",
       "       [ 2,  1, 10],\n",
       "       [ 2, -1, 11],\n",
       "       [ 2, -1, 12],\n",
       "       [ 2, -1, 13],\n",
       "       [ 3, -1,  4],\n",
       "       [ 3, -1,  5],\n",
       "       [ 3,  1,  6],\n",
       "       [ 3, -1,  7],\n",
       "       [ 3, -1,  8],\n",
       "       [ 3, -1,  9],\n",
       "       [ 3, -1, 10],\n",
       "       [ 3,  1, 11],\n",
       "       [ 3, -1, 12],\n",
       "       [ 3, -1, 13],\n",
       "       [ 4, -1,  5],\n",
       "       [ 4,  1,  6],\n",
       "       [ 4, -1,  7],\n",
       "       [ 4, -1,  8],\n",
       "       [ 4, -1,  9],\n",
       "       [ 4, -1, 10],\n",
       "       [ 4, -1, 11],\n",
       "       [ 4,  1, 12],\n",
       "       [ 4, -1, 13],\n",
       "       [ 5, -1,  6],\n",
       "       [ 5,  1,  7],\n",
       "       [ 5, -1,  8],\n",
       "       [ 5, -1,  9],\n",
       "       [ 5, -1, 10],\n",
       "       [ 5, -1, 11],\n",
       "       [ 5, -1, 12],\n",
       "       [ 5, -1, 13],\n",
       "       [ 6, -1,  7],\n",
       "       [ 6,  1,  8],\n",
       "       [ 6,  1,  9],\n",
       "       [ 6,  1, 10],\n",
       "       [ 6,  1, 11],\n",
       "       [ 6,  1, 12],\n",
       "       [ 6,  1, 13],\n",
       "       [ 7, -1,  8],\n",
       "       [ 7, -1,  9],\n",
       "       [ 7, -1, 10],\n",
       "       [ 7, -1, 11],\n",
       "       [ 7, -1, 12],\n",
       "       [ 7, -1, 13],\n",
       "       [ 8, -1,  9],\n",
       "       [ 8, -1, 10],\n",
       "       [ 8, -1, 11],\n",
       "       [ 8, -1, 12],\n",
       "       [ 8, -1, 13],\n",
       "       [ 9, -1, 10],\n",
       "       [ 9, -1, 11],\n",
       "       [ 9, -1, 12],\n",
       "       [ 9, -1, 13],\n",
       "       [10, -1, 11],\n",
       "       [10, -1, 12],\n",
       "       [10, -1, 13],\n",
       "       [11, -1, 12],\n",
       "       [11, -1, 13],\n",
       "       [12, -1, 13]], dtype=int32)"
      ]
     },
     "execution_count": 8,
     "metadata": {},
     "output_type": "execute_result"
    }
   ],
   "source": [
    "idx = 0\n",
    "test_graph = data['graphs'][idx]\n",
    "test_graph"
   ]
  },
  {
   "cell_type": "code",
   "execution_count": 15,
   "metadata": {},
   "outputs": [],
   "source": [
    "room_num = 8 # the first room_num indices are rooms\n",
    "\n",
    "test_graph = test_graph[np.where(test_graph[:, 1] == 1)]\n",
    "# limit the nodes to 8\n",
    "test_graph = test_graph[np.where(test_graph[:, 0] < room_num)]\n",
    "test_graph = test_graph[np.where(test_graph[:, 2] < room_num)]"
   ]
  },
  {
   "cell_type": "code",
   "execution_count": 19,
   "metadata": {},
   "outputs": [
    {
     "data": {
      "image/png": "[encoded data removed]",
      "text/plain": [
       "<Figure size 640x480 with 1 Axes>"
      ]
     },
     "metadata": {},
     "output_type": "display_data"
    }
   ],
   "source": [
    "\n",
    "G = nx.Graph()\n",
    "for triplet in test_graph:\n",
    "    G.add_edge(triplet[0], triplet[2], weight=triplet[1])\n",
    "pos = nx.spring_layout(G)  # positions for all nodes\n",
    "labels = nx.get_edge_attributes(G, 'weight')\n",
    "nx.draw_networkx(G, pos, with_labels=True, node_size=700, font_size=10)\n",
    "plt.title(f'Connectivity graph')\n",
    "plt.show()"
   ]
  },
  {
   "cell_type": "markdown",
   "metadata": {},
   "source": [
    "## houses\n",
    "Houses hold information about all the corner coordiniates, room_types, room indices, corner_indices, etc.\n"
   ]
  },
  {
   "cell_type": "code",
   "execution_count": 5,
   "metadata": {},
   "outputs": [],
   "source": [
    "houses = data['houses']\n",
    "num_coords = 2\n",
    "\n",
    "cond = {\n",
    "        'corner_coords': houses[idx][:, :num_coords],\n",
    "        'room_types': houses[idx][:, num_coords: num_coords+25],\n",
    "        'room_sizes': houses[idx][:, num_coords+25: num_coords+26],\n",
    "        # 'room_types': self.houses[idx][:, self.num_coords:self.num_coords+25],\n",
    "        'corner_indices': houses[idx][:, num_coords+25+1: num_coords+57+1],\n",
    "        'room_indices': houses[idx][:, num_coords+57+1: num_coords+89+1],\n",
    "        'src_key_padding_mask': 1-houses[idx][:, num_coords+89+1],\n",
    "        'connections': houses[idx][:, num_coords+90+1: num_coords+92+1]\n",
    "        }\n",
    "\n",
    "corner_coords = cond['corner_coords'] # (100, 2), stores all the corner coordinates in x, y. Set to all zeros when passing to the model for inference.\n",
    "room_types = cond['room_types'] # (100, 25) one-hot encoding of room types\n",
    "room_sizes = cond['room_sizes'] # (100, 1) room sizes\n",
    "corner_indices = cond['corner_indices'] # (100, 32) # one-hot encoding of corner indices\n",
    "room_indices = cond['room_indices'] # (100, 32) # one-hot encoding of room indices\n",
    "src_key_padding_mask = cond['src_key_padding_mask'] # (100,) # mask for the key padding\n",
    "connections = cond['connections'] # (100, 2)\n"
   ]
  },
  {
   "cell_type": "markdown",
   "metadata": {},
   "source": [
    "## boundary"
   ]
  },
  {
   "cell_type": "code",
   "execution_count": 7,
   "metadata": {},
   "outputs": [
    {
     "data": {
      "text/plain": [
       "array([[-0.6875   , -0.625    ],\n",
       "       [-0.6875   ,  0.5546875],\n",
       "       [ 0.0859375,  0.5546875],\n",
       "       [ 0.09375  ,  0.6171875],\n",
       "       [ 0.6796875,  0.6171875],\n",
       "       [ 0.6796875, -0.09375  ],\n",
       "       [ 0.59375  , -0.09375  ],\n",
       "       [ 0.5859375, -0.59375  ],\n",
       "       [-0.40625  , -0.59375  ],\n",
       "       [-0.4140625, -0.625    ],\n",
       "       [ 0.       ,  0.       ],\n",
       "       [ 0.       ,  0.       ],\n",
       "       [ 0.       ,  0.       ],\n",
       "       [ 0.       ,  0.       ],\n",
       "       [ 0.       ,  0.       ],\n",
       "       [ 0.       ,  0.       ],\n",
       "       [ 0.       ,  0.       ],\n",
       "       [ 0.       ,  0.       ],\n",
       "       [ 0.       ,  0.       ],\n",
       "       [ 0.       ,  0.       ],\n",
       "       [ 0.       ,  0.       ],\n",
       "       [ 0.       ,  0.       ],\n",
       "       [ 0.       ,  0.       ],\n",
       "       [ 0.       ,  0.       ],\n",
       "       [ 0.       ,  0.       ],\n",
       "       [ 0.       ,  0.       ],\n",
       "       [ 0.       ,  0.       ],\n",
       "       [ 0.       ,  0.       ],\n",
       "       [ 0.       ,  0.       ],\n",
       "       [ 0.       ,  0.       ],\n",
       "       [ 0.       ,  0.       ],\n",
       "       [ 0.       ,  0.       ],\n",
       "       [ 0.       ,  0.       ],\n",
       "       [ 0.       ,  0.       ],\n",
       "       [ 0.       ,  0.       ],\n",
       "       [ 0.       ,  0.       ],\n",
       "       [ 0.       ,  0.       ],\n",
       "       [ 0.       ,  0.       ],\n",
       "       [ 0.       ,  0.       ],\n",
       "       [ 0.       ,  0.       ],\n",
       "       [ 0.       ,  0.       ],\n",
       "       [ 0.       ,  0.       ],\n",
       "       [ 0.       ,  0.       ],\n",
       "       [ 0.       ,  0.       ],\n",
       "       [ 0.       ,  0.       ],\n",
       "       [ 0.       ,  0.       ],\n",
       "       [ 0.       ,  0.       ],\n",
       "       [ 0.       ,  0.       ],\n",
       "       [ 0.       ,  0.       ],\n",
       "       [ 0.       ,  0.       ],\n",
       "       [ 0.       ,  0.       ],\n",
       "       [ 0.       ,  0.       ],\n",
       "       [ 0.       ,  0.       ],\n",
       "       [ 0.       ,  0.       ],\n",
       "       [ 0.       ,  0.       ],\n",
       "       [ 0.       ,  0.       ],\n",
       "       [ 0.       ,  0.       ],\n",
       "       [ 0.       ,  0.       ],\n",
       "       [ 0.       ,  0.       ],\n",
       "       [ 0.       ,  0.       ],\n",
       "       [ 0.       ,  0.       ],\n",
       "       [ 0.       ,  0.       ],\n",
       "       [ 0.       ,  0.       ],\n",
       "       [ 0.       ,  0.       ],\n",
       "       [ 0.       ,  0.       ],\n",
       "       [ 0.       ,  0.       ],\n",
       "       [ 0.       ,  0.       ],\n",
       "       [ 0.       ,  0.       ],\n",
       "       [ 0.       ,  0.       ],\n",
       "       [ 0.       ,  0.       ],\n",
       "       [ 0.       ,  0.       ],\n",
       "       [ 0.       ,  0.       ],\n",
       "       [ 0.       ,  0.       ],\n",
       "       [ 0.       ,  0.       ],\n",
       "       [ 0.       ,  0.       ],\n",
       "       [ 0.       ,  0.       ],\n",
       "       [ 0.       ,  0.       ],\n",
       "       [ 0.       ,  0.       ],\n",
       "       [ 0.       ,  0.       ],\n",
       "       [ 0.       ,  0.       ],\n",
       "       [ 0.       ,  0.       ],\n",
       "       [ 0.       ,  0.       ],\n",
       "       [ 0.       ,  0.       ],\n",
       "       [ 0.       ,  0.       ],\n",
       "       [ 0.       ,  0.       ],\n",
       "       [ 0.       ,  0.       ],\n",
       "       [ 0.       ,  0.       ],\n",
       "       [ 0.       ,  0.       ],\n",
       "       [ 0.       ,  0.       ],\n",
       "       [ 0.       ,  0.       ],\n",
       "       [ 0.       ,  0.       ],\n",
       "       [ 0.       ,  0.       ],\n",
       "       [ 0.       ,  0.       ],\n",
       "       [ 0.       ,  0.       ],\n",
       "       [ 0.       ,  0.       ],\n",
       "       [ 0.       ,  0.       ],\n",
       "       [ 0.       ,  0.       ],\n",
       "       [ 0.       ,  0.       ],\n",
       "       [ 0.       ,  0.       ],\n",
       "       [ 0.       ,  0.       ]])"
      ]
     },
     "execution_count": 7,
     "metadata": {},
     "output_type": "execute_result"
    }
   ],
   "source": [
    "boundary"
   ]
  },
  {
   "cell_type": "code",
   "execution_count": 26,
   "metadata": {},
   "outputs": [
    {
     "data": {
      "text/plain": [
       "array([[-0.6875   , -0.625    ],\n",
       "       [-0.6875   ,  0.5546875],\n",
       "       [ 0.0859375,  0.5546875],\n",
       "       [ 0.09375  ,  0.6171875],\n",
       "       [ 0.6796875,  0.6171875],\n",
       "       [ 0.6796875, -0.09375  ],\n",
       "       [ 0.59375  , -0.09375  ],\n",
       "       [ 0.5859375, -0.59375  ],\n",
       "       [-0.40625  , -0.59375  ],\n",
       "       [-0.4140625, -0.625    ],\n",
       "       [ 0.       ,  0.       ],\n",
       "       [ 0.       ,  0.       ],\n",
       "       [ 0.       ,  0.       ],\n",
       "       [ 0.       ,  0.       ],\n",
       "       [ 0.       ,  0.       ],\n",
       "       [ 0.       ,  0.       ],\n",
       "       [ 0.       ,  0.       ],\n",
       "       [ 0.       ,  0.       ],\n",
       "       [ 0.       ,  0.       ],\n",
       "       [ 0.       ,  0.       ],\n",
       "       [ 0.       ,  0.       ],\n",
       "       [ 0.       ,  0.       ],\n",
       "       [ 0.       ,  0.       ],\n",
       "       [ 0.       ,  0.       ],\n",
       "       [ 0.       ,  0.       ],\n",
       "       [ 0.       ,  0.       ],\n",
       "       [ 0.       ,  0.       ],\n",
       "       [ 0.       ,  0.       ],\n",
       "       [ 0.       ,  0.       ],\n",
       "       [ 0.       ,  0.       ],\n",
       "       [ 0.       ,  0.       ],\n",
       "       [ 0.       ,  0.       ],\n",
       "       [ 0.       ,  0.       ],\n",
       "       [ 0.       ,  0.       ],\n",
       "       [ 0.       ,  0.       ],\n",
       "       [ 0.       ,  0.       ],\n",
       "       [ 0.       ,  0.       ],\n",
       "       [ 0.       ,  0.       ],\n",
       "       [ 0.       ,  0.       ],\n",
       "       [ 0.       ,  0.       ],\n",
       "       [ 0.       ,  0.       ],\n",
       "       [ 0.       ,  0.       ],\n",
       "       [ 0.       ,  0.       ],\n",
       "       [ 0.       ,  0.       ],\n",
       "       [ 0.       ,  0.       ],\n",
       "       [ 0.       ,  0.       ],\n",
       "       [ 0.       ,  0.       ],\n",
       "       [ 0.       ,  0.       ],\n",
       "       [ 0.       ,  0.       ],\n",
       "       [ 0.       ,  0.       ],\n",
       "       [ 0.       ,  0.       ],\n",
       "       [ 0.       ,  0.       ],\n",
       "       [ 0.       ,  0.       ],\n",
       "       [ 0.       ,  0.       ],\n",
       "       [ 0.       ,  0.       ],\n",
       "       [ 0.       ,  0.       ],\n",
       "       [ 0.       ,  0.       ],\n",
       "       [ 0.       ,  0.       ],\n",
       "       [ 0.       ,  0.       ],\n",
       "       [ 0.       ,  0.       ],\n",
       "       [ 0.       ,  0.       ],\n",
       "       [ 0.       ,  0.       ],\n",
       "       [ 0.       ,  0.       ],\n",
       "       [ 0.       ,  0.       ],\n",
       "       [ 0.       ,  0.       ],\n",
       "       [ 0.       ,  0.       ],\n",
       "       [ 0.       ,  0.       ],\n",
       "       [ 0.       ,  0.       ],\n",
       "       [ 0.       ,  0.       ],\n",
       "       [ 0.       ,  0.       ],\n",
       "       [ 0.       ,  0.       ],\n",
       "       [ 0.       ,  0.       ],\n",
       "       [ 0.       ,  0.       ],\n",
       "       [ 0.       ,  0.       ],\n",
       "       [ 0.       ,  0.       ],\n",
       "       [ 0.       ,  0.       ],\n",
       "       [ 0.       ,  0.       ],\n",
       "       [ 0.       ,  0.       ],\n",
       "       [ 0.       ,  0.       ],\n",
       "       [ 0.       ,  0.       ],\n",
       "       [ 0.       ,  0.       ],\n",
       "       [ 0.       ,  0.       ],\n",
       "       [ 0.       ,  0.       ],\n",
       "       [ 0.       ,  0.       ],\n",
       "       [ 0.       ,  0.       ],\n",
       "       [ 0.       ,  0.       ],\n",
       "       [ 0.       ,  0.       ],\n",
       "       [ 0.       ,  0.       ],\n",
       "       [ 0.       ,  0.       ],\n",
       "       [ 0.       ,  0.       ],\n",
       "       [ 0.       ,  0.       ],\n",
       "       [ 0.       ,  0.       ],\n",
       "       [ 0.       ,  0.       ],\n",
       "       [ 0.       ,  0.       ],\n",
       "       [ 0.       ,  0.       ],\n",
       "       [ 0.       ,  0.       ],\n",
       "       [ 0.       ,  0.       ],\n",
       "       [ 0.       ,  0.       ],\n",
       "       [ 0.       ,  0.       ],\n",
       "       [ 0.       ,  0.       ]])"
      ]
     },
     "execution_count": 26,
     "metadata": {},
     "output_type": "execute_result"
    }
   ],
   "source": [
    "boundary"
   ]
  },
  {
   "cell_type": "code",
   "execution_count": 6,
   "metadata": {},
   "outputs": [
    {
     "data": {
      "image/png": "[encoded data removed]",
      "text/plain": [
       "<Figure size 640x480 with 1 Axes>"
      ]
     },
     "metadata": {},
     "output_type": "display_data"
    }
   ],
   "source": [
    "boundary = data['boundaries'][idx]\n",
    "corners = boundary[boundary[:,0] != 0]\n",
    "corners = np.vstack((corners, corners[0]))\n",
    "poly = Polygon(corners)\n",
    "x,y = poly.exterior.xy\n",
    "plt.plot(x, y)\n",
    "plt.show()"
   ]
  },
  {
   "cell_type": "markdown",
   "metadata": {},
   "source": [
    "## Boundary mask (made from all the inputs)\n",
    "The mask for boundary corners and room corners. 0 for boundary_mask[:boundary_num, :room_corner_num] "
   ]
  },
  {
   "cell_type": "code",
   "execution_count": 26,
   "metadata": {},
   "outputs": [
    {
     "data": {
      "text/plain": [
       "<matplotlib.image.AxesImage at 0x7f29c1d58eb0>"
      ]
     },
     "execution_count": 26,
     "metadata": {},
     "output_type": "execute_result"
    },
    {
     "data": {
      "image/png": "[encoded data removed]",
      "text/plain": [
       "<Figure size 640x480 with 1 Axes>"
      ]
     },
     "metadata": {},
     "output_type": "display_data"
    }
   ],
   "source": [
    "boundary_mask = data['boundary_masks'][idx] # \n",
    "plt.imshow(boundary_mask)\n"
   ]
  },
  {
   "cell_type": "code",
   "execution_count": 15,
   "metadata": {},
   "outputs": [
    {
     "data": {
      "text/plain": [
       "(66, 2)"
      ]
     },
     "execution_count": 15,
     "metadata": {},
     "output_type": "execute_result"
    }
   ],
   "source": [
    "corner_coords[src_key_padding_mask==0].shape"
   ]
  },
  {
   "cell_type": "code",
   "execution_count": 24,
   "metadata": {},
   "outputs": [
    {
     "data": {
      "text/plain": [
       "<matplotlib.image.AxesImage at 0x7feea1569b20>"
      ]
     },
     "execution_count": 24,
     "metadata": {},
     "output_type": "execute_result"
    },
    {
     "data": {
      "image/png": "[encoded data removed]",
      "text/plain": [
       "<Figure size 640x480 with 1 Axes>"
      ]
     },
     "metadata": {},
     "output_type": "display_data"
    }
   ],
   "source": [
    "# example of making the boundary mask. \n",
    "\n",
    "test_boundary = boundary[(boundary[:, 0] != 0)&(boundary[:, 1] != 0)] # don't need to do that for the input\n",
    "test_mask = np.ones((len(corner_coords), len(corner_coords))) \n",
    "test_mask[:len(corner_coords[src_key_padding_mask==0]), :len(test_boundary)] = 0\n",
    "plt.imshow(test_mask)"
   ]
  },
  {
   "cell_type": "markdown",
   "metadata": {},
   "source": [
    "## self mask\n",
    "to show which corners belong to the same room / door, (0 for the purple part. )"
   ]
  },
  {
   "cell_type": "code",
   "execution_count": 25,
   "metadata": {},
   "outputs": [
    {
     "data": {
      "text/plain": [
       "<matplotlib.image.AxesImage at 0x7f29c0de4190>"
      ]
     },
     "execution_count": 25,
     "metadata": {},
     "output_type": "execute_result"
    },
    {
     "data": {
      "image/png": "[encoded data removed]",
      "text/plain": [
       "<Figure size 640x480 with 1 Axes>"
      ]
     },
     "metadata": {},
     "output_type": "display_data"
    }
   ],
   "source": [
    "self_mask = data['self_masks'][idx]\n",
    "plt.imshow(self_mask)"
   ]
  },
  {
   "cell_type": "markdown",
   "metadata": {},
   "source": [
    "## Gen mask\n",
    "Gen mask is to show the padding mask, 1 is the padding part, 0 is the real part"
   ]
  },
  {
   "cell_type": "code",
   "execution_count": 27,
   "metadata": {},
   "outputs": [
    {
     "data": {
      "text/plain": [
       "<matplotlib.image.AxesImage at 0x7f29c2b7a7c0>"
      ]
     },
     "execution_count": 27,
     "metadata": {},
     "output_type": "execute_result"
    },
    {
     "data": {
      "image/png": "[encoded data removed]",
      "text/plain": [
       "<Figure size 640x480 with 1 Axes>"
      ]
     },
     "metadata": {},
     "output_type": "display_data"
    }
   ],
   "source": [
    "gen_mask = data['gen_masks'][idx] \n",
    "plt.imshow(gen_mask)"
   ]
  },
  {
   "cell_type": "markdown",
   "metadata": {},
   "source": [
    "## boundary connection\n",
    "The indices of boundary corners formatted for polygons (closed loop)"
   ]
  },
  {
   "cell_type": "code",
   "execution_count": 25,
   "metadata": {},
   "outputs": [
    {
     "data": {
      "text/plain": [
       "array([[-0.6875   , -0.625    ],\n",
       "       [-0.6875   ,  0.5546875],\n",
       "       [ 0.0859375,  0.5546875],\n",
       "       [ 0.09375  ,  0.6171875],\n",
       "       [ 0.6796875,  0.6171875],\n",
       "       [ 0.6796875, -0.09375  ],\n",
       "       [ 0.59375  , -0.09375  ],\n",
       "       [ 0.5859375, -0.59375  ],\n",
       "       [-0.40625  , -0.59375  ],\n",
       "       [-0.4140625, -0.625    ]])"
      ]
     },
     "execution_count": 25,
     "metadata": {},
     "output_type": "execute_result"
    }
   ],
   "source": [
    "test_boundary"
   ]
  },
  {
   "cell_type": "code",
   "execution_count": 29,
   "metadata": {},
   "outputs": [
    {
     "data": {
      "text/plain": [
       "array([[0., 1.],\n",
       "       [1., 2.],\n",
       "       [2., 3.],\n",
       "       [3., 4.],\n",
       "       [4., 5.],\n",
       "       [5., 6.],\n",
       "       [6., 7.],\n",
       "       [7., 8.],\n",
       "       [8., 9.],\n",
       "       [9., 0.],\n",
       "       [0., 0.],\n",
       "       [0., 0.],\n",
       "       [0., 0.],\n",
       "       [0., 0.],\n",
       "       [0., 0.],\n",
       "       [0., 0.],\n",
       "       [0., 0.],\n",
       "       [0., 0.],\n",
       "       [0., 0.],\n",
       "       [0., 0.],\n",
       "       [0., 0.],\n",
       "       [0., 0.],\n",
       "       [0., 0.],\n",
       "       [0., 0.],\n",
       "       [0., 0.],\n",
       "       [0., 0.],\n",
       "       [0., 0.],\n",
       "       [0., 0.],\n",
       "       [0., 0.],\n",
       "       [0., 0.],\n",
       "       [0., 0.],\n",
       "       [0., 0.],\n",
       "       [0., 0.],\n",
       "       [0., 0.],\n",
       "       [0., 0.],\n",
       "       [0., 0.],\n",
       "       [0., 0.],\n",
       "       [0., 0.],\n",
       "       [0., 0.],\n",
       "       [0., 0.],\n",
       "       [0., 0.],\n",
       "       [0., 0.],\n",
       "       [0., 0.],\n",
       "       [0., 0.],\n",
       "       [0., 0.],\n",
       "       [0., 0.],\n",
       "       [0., 0.],\n",
       "       [0., 0.],\n",
       "       [0., 0.],\n",
       "       [0., 0.],\n",
       "       [0., 0.],\n",
       "       [0., 0.],\n",
       "       [0., 0.],\n",
       "       [0., 0.],\n",
       "       [0., 0.],\n",
       "       [0., 0.],\n",
       "       [0., 0.],\n",
       "       [0., 0.],\n",
       "       [0., 0.],\n",
       "       [0., 0.],\n",
       "       [0., 0.],\n",
       "       [0., 0.],\n",
       "       [0., 0.],\n",
       "       [0., 0.],\n",
       "       [0., 0.],\n",
       "       [0., 0.],\n",
       "       [0., 0.],\n",
       "       [0., 0.],\n",
       "       [0., 0.],\n",
       "       [0., 0.],\n",
       "       [0., 0.],\n",
       "       [0., 0.],\n",
       "       [0., 0.],\n",
       "       [0., 0.],\n",
       "       [0., 0.],\n",
       "       [0., 0.],\n",
       "       [0., 0.],\n",
       "       [0., 0.],\n",
       "       [0., 0.],\n",
       "       [0., 0.],\n",
       "       [0., 0.],\n",
       "       [0., 0.],\n",
       "       [0., 0.],\n",
       "       [0., 0.],\n",
       "       [0., 0.],\n",
       "       [0., 0.],\n",
       "       [0., 0.],\n",
       "       [0., 0.],\n",
       "       [0., 0.],\n",
       "       [0., 0.],\n",
       "       [0., 0.],\n",
       "       [0., 0.],\n",
       "       [0., 0.],\n",
       "       [0., 0.],\n",
       "       [0., 0.],\n",
       "       [0., 0.],\n",
       "       [0., 0.],\n",
       "       [0., 0.],\n",
       "       [0., 0.],\n",
       "       [0., 0.]])"
      ]
     },
     "execution_count": 29,
     "metadata": {},
     "output_type": "execute_result"
    }
   ],
   "source": [
    "boundary_connection = data['boundary_connections'][idx] \n"
   ]
  },
  {
   "cell_type": "markdown",
   "metadata": {},
   "source": [
    "## min_dist (leave it for now)\n",
    "min_dist for each room, they are repeated for each corner in the same room to match the corner_coords"
   ]
  },
  {
   "cell_type": "code",
   "execution_count": 31,
   "metadata": {},
   "outputs": [],
   "source": [
    "min_dist = data['min_dists'][idx] "
   ]
  },
  {
   "cell_type": "markdown",
   "metadata": {},
   "source": [
    "## min_dist mask (leave it for now)\n",
    "same as self mask but rule out the door part"
   ]
  },
  {
   "cell_type": "code",
   "execution_count": 32,
   "metadata": {},
   "outputs": [
    {
     "data": {
      "text/plain": [
       "<matplotlib.image.AxesImage at 0x7f29c122d550>"
      ]
     },
     "execution_count": 32,
     "metadata": {},
     "output_type": "execute_result"
    },
    {
     "data": {
      "image/png": "[encoded data removed]",
      "text/plain": [
       "<Figure size 640x480 with 1 Axes>"
      ]
     },
     "metadata": {},
     "output_type": "display_data"
    }
   ],
   "source": [
    "min_dist_mask = data['min_dist_masks'][idx]\n",
    "plt.imshow(min_dist_mask)"
   ]
  },
  {
   "cell_type": "markdown",
   "metadata": {},
   "source": [
    "## Some visualization"
   ]
  },
  {
   "cell_type": "code",
   "execution_count": 63,
   "metadata": {},
   "outputs": [],
   "source": [
    "room_polys = []\n",
    "room_colors = []\n",
    "corner_coords[src_key_padding_mask==0]\n",
    "room_indices_argmax = np.argmax(room_indices[src_key_padding_mask==0], axis=1)\n",
    "room_types_argmax = np.argmax(room_types[src_key_padding_mask==0], axis=1)\n",
    "\n",
    "for i in np.unique(room_indices_argmax):\n",
    "    coords = (corner_coords[src_key_padding_mask==0][room_indices_argmax == i])\n",
    "    coords = coords/2 + 0.5\n",
    "    coords = coords * 256\n",
    "    room_poly = Polygon(coords)\n",
    "    room_color = ID_COLOR[room_types_argmax[room_indices_argmax == i][0]]\n",
    "    room_colors.append(room_color)\n",
    "    room_polys.append(room_poly)"
   ]
  },
  {
   "cell_type": "code",
   "execution_count": 64,
   "metadata": {},
   "outputs": [
    {
     "data": {
      "image/jpeg": "[encoded data removed]",
      "image/png": "[encoded data removed]",
      "text/plain": [
       "<PIL.Image.Image image mode=RGB size=256x256>"
      ]
     },
     "metadata": {},
     "output_type": "display_data"
    }
   ],
   "source": [
    "def plot_polygons(polygons, color_list, boundary=None):\n",
    "    image = Image.new('RGB', (256, 256), \"white\")\n",
    "    draw = ImageDraw.Draw(image)\n",
    "    for i, c in zip(polygons, color_list):\n",
    "        if isinstance(i, Polygon):\n",
    "            x, y = i.exterior.xy\n",
    "            draw.polygon(list(zip(x, y)), fill=c, outline =\"black\")\n",
    "        else:\n",
    "            draw.polygon([(x, y) for (x, y) in i], fill=c, outline =\"black\")\n",
    "    if boundary is not None:\n",
    "        draw.polygon([(x, y) for (x, y) in boundary],outline =\"grey\", width=2)\n",
    "    # x, y = boundary.exterior.xy\n",
    "    # draw.polygon(list(zip(x, y)), fill =0, outline =\"white\", alpha=0.5)\n",
    "    image.show()\n",
    "\n",
    "plot_polygons(room_polys, room_colors)"
   ]
  },
  {
   "cell_type": "code",
   "execution_count": 68,
   "metadata": {},
   "outputs": [
    {
     "data": {
      "image/png": "[encoded data removed]",
      "text/plain": [
       "<Figure size 640x480 with 1 Axes>"
      ]
     },
     "metadata": {},
     "output_type": "display_data"
    }
   ],
   "source": [
    "\n",
    "G = nx.Graph()\n",
    "for triplet in test_graph:\n",
    "    G.add_edge(triplet[0], triplet[2], weight=triplet[1])\n",
    "\n",
    "# Draw the graph with the new interpretation\n",
    "pos = nx.spring_layout(G)  # positions for all nodes\n",
    "labels = nx.get_edge_attributes(G, 'weight')\n",
    "# node colors\n",
    "nx.draw_networkx(G, pos, with_labels=True, node_size=700, node_color=room_colors[:room_num], font_size=10)\n",
    "plt.title(f'Connectivity graph')\n",
    "plt.show()"
   ]
  }
 ],
 "metadata": {
  "kernelspec": {
   "display_name": "py382",
   "language": "python",
   "name": "python3"
  },
  "language_info": {
   "codemirror_mode": {
    "name": "ipython",
    "version": 3
   },
   "file_extension": ".py",
   "mimetype": "text/x-python",
   "name": "python",
   "nbconvert_exporter": "python",
   "pygments_lexer": "ipython3",
   "version": "3.8.18"
  }
 },
 "nbformat": 4,
 "nbformat_minor": 2
}
